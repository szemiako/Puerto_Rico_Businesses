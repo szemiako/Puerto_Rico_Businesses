{
 "cells": [
  {
   "cell_type": "code",
   "execution_count": null,
   "metadata": {},
   "outputs": [],
   "source": [
    "import matplotlib.pyplot as plt\n",
    "import numpy as np\n",
    "import pandas as pd\n",
    "from pandas import Series, DataFrame\n",
    "from pylab import rcParams\n",
    "import re\n",
    "import seaborn as sb"
   ]
  },
  {
   "cell_type": "code",
   "execution_count": null,
   "metadata": {},
   "outputs": [],
   "source": [
    "%matplotlib inline\n",
    "rcParams['figure.figsize'] = 10, 10\n",
    "sb.set_style('whitegrid')"
   ]
  },
  {
   "cell_type": "code",
   "execution_count": null,
   "metadata": {},
   "outputs": [],
   "source": [
    "results = pd.read_csv('C:/puerto_rico/data_file.csv')\n",
    "results.columns = ['Name', 'Types', 'Rating', 'Number of Ratings', 'Address', 'Latitude', 'Longitude']"
   ]
  },
  {
   "cell_type": "code",
   "execution_count": null,
   "metadata": {},
   "outputs": [],
   "source": [
    "results = results.replace('None', 0)\n",
    "\n",
    "results['Rating'] = pd.to_numeric(results['Rating'])\n",
    "results['Number of Ratings'] = pd.to_numeric(results['Number of Ratings'])"
   ]
  },
  {
   "cell_type": "code",
   "execution_count": null,
   "metadata": {},
   "outputs": [],
   "source": [
    "better_results = results[results['Rating'] >= 4.5]"
   ]
  },
  {
   "cell_type": "code",
   "execution_count": null,
   "metadata": {},
   "outputs": [],
   "source": [
    "better_results['Rating'].plot(kind='hist')"
   ]
  },
  {
   "cell_type": "code",
   "execution_count": null,
   "metadata": {},
   "outputs": [],
   "source": [
    "total_better_reviews = sum(better_results['Number of Ratings'])\n",
    "# total_better_reviews"
   ]
  },
  {
   "cell_type": "code",
   "execution_count": null,
   "metadata": {},
   "outputs": [],
   "source": [
    "ratio_total = round(better_results['Number of Ratings'] / total_better_reviews, 5)\n",
    "# ratio_total"
   ]
  },
  {
   "cell_type": "code",
   "execution_count": null,
   "metadata": {},
   "outputs": [],
   "source": [
    "color_theme = [\n",
    "    '#F6F5F6',\n",
    "    '#92AECE',\n",
    "    '#8686A4',\n",
    "    '#99849A',\n",
    "    '#485260'\n",
    "]\n",
    "# plt.pie(better_results['Number of Ratings'], labels=better_results['Name'], autopct='%1.1f%%', startangle=90, pctdistance=0.85, colors=color_theme)\n",
    "plt.pie(better_results['Number of Ratings'], startangle=90, pctdistance=0.85, colors=color_theme)\n",
    "\n",
    "centre_circle = plt.Circle((0,0),0.70,fc='white')\n",
    "fig = plt.gcf()\n",
    "\n",
    "fig.gca().add_artist(centre_circle)\n",
    "# Equal aspect ratio ensures that pie is drawn as a circle\n",
    "\n",
    "plt.tight_layout()\n",
    "plt.show()"
   ]
  },
  {
   "cell_type": "code",
   "execution_count": null,
   "metadata": {},
   "outputs": [],
   "source": [
    "best_results = better_results.nlargest(5, 'Number of Ratings')\n",
    "color_theme = [\n",
    "    '#F6F5F6',\n",
    "    '#92AECE',\n",
    "    '#8686A4',\n",
    "    '#99849A',\n",
    "    '#485260'\n",
    "]\n",
    "plt.pie(\n",
    "    best_results['Number of Ratings'],\n",
    "    labels=best_results['Name'],\n",
    "    autopct='%1.1f%%',\n",
    "    startangle=90,\n",
    "    pctdistance=0.85,\n",
    "    colors=color_theme\n",
    ")\n",
    "\n",
    "centre_circle = plt.Circle(\n",
    "    (0, 0),\n",
    "    0.70,\n",
    "    fc='white'\n",
    ")\n",
    "\n",
    "fig = plt.gcf()\n",
    "\n",
    "fig.gca().add_artist(centre_circle)\n",
    "plt.tight_layout()\n",
    "plt.show()"
   ]
  },
  {
   "cell_type": "code",
   "execution_count": null,
   "metadata": {},
   "outputs": [],
   "source": [
    "total_ratings = sum(best_results['Number of Ratings'])\n",
    "\n",
    "# create donut plots\n",
    "startingRadius = 0.7 + (0.3 * (len(best_results) - 1))\n",
    "\n",
    "for index, row in best_results.iterrows():\n",
    "    num_ratings = row['Number of Ratings']\n",
    "#     print(startingRadius)\n",
    "    remainingPie = total_ratings - num_ratings\n",
    "    donut_sizes = [remainingPie, num_ratings]\n",
    "\n",
    "    plt.text(0.01, startingRadius + 0.07, row['Name'], horizontalalignment='center', verticalalignment='center')\n",
    "    plt.pie(donut_sizes, radius=startingRadius, startangle=90, colors=['#F6F5F6', '#E6742F'],\n",
    "            wedgeprops={\"edgecolor\": \"white\", 'linewidth': 1})\n",
    "\n",
    "    startingRadius-=0.3\n",
    "\n",
    "# equal ensures pie chart is drawn as a circle (equal aspect ratio)\n",
    "# create circle and place onto pie chart\n",
    "circle = plt.Circle(xy=(0, 0), radius=0.35, facecolor='white')\n",
    "plt.gca().add_artist(circle)\n",
    "plt.tight_layout()\n",
    "# plt.savefig('donutPlot.jpg')\n",
    "plt.show()"
   ]
  },
  {
   "cell_type": "code",
   "execution_count": null,
   "metadata": {},
   "outputs": [],
   "source": [
    "better_results['weighted_score'] = round(better_results['Rating'] * ratio_total, 5)"
   ]
  },
  {
   "cell_type": "code",
   "execution_count": null,
   "metadata": {},
   "outputs": [],
   "source": [
    "best_weighted_results = better_results.nlargest(5, 'weighted_score')"
   ]
  },
  {
   "cell_type": "code",
   "execution_count": null,
   "metadata": {},
   "outputs": [],
   "source": [
    "weighted_score.plot(kind='hist')"
   ]
  },
  {
   "cell_type": "code",
   "execution_count": null,
   "metadata": {},
   "outputs": [],
   "source": [
    "color_theme = [\n",
    "    '#F6F5F6',\n",
    "    '#92AECE',\n",
    "    '#8686A4',\n",
    "    '#99849A',\n",
    "    '#485260'\n",
    "]\n",
    "plt.pie(\n",
    "    best_weighted_results['weighted_score'],\n",
    "    labels=best_results['Name'],\n",
    "    autopct='%1.1f%%',\n",
    "    startangle=90,\n",
    "    pctdistance=0.85,\n",
    "    colors=color_theme\n",
    ")\n",
    "\n",
    "centre_circle = plt.Circle(\n",
    "    (0, 0),\n",
    "    0.70,\n",
    "    fc='white'\n",
    ")\n",
    "\n",
    "fig = plt.gcf()\n",
    "\n",
    "fig.gca().add_artist(centre_circle)\n",
    "plt.tight_layout()\n",
    "plt.show()"
   ]
  },
  {
   "cell_type": "code",
   "execution_count": null,
   "metadata": {},
   "outputs": [],
   "source": [
    "total_ratings = sum(best_results['Number of Ratings'])\n",
    "\n",
    "# create donut plots\n",
    "startingRadius = 0.7 + (0.3 * (len(best_results) - 1))\n",
    "\n",
    "for index, row in best_results.iterrows():\n",
    "    num_ratings = row['Number of Ratings']\n",
    "#     print(startingRadius)\n",
    "    remainingPie = total_ratings - num_ratings\n",
    "    donut_sizes = [remainingPie, num_ratings]\n",
    "\n",
    "    plt.text(0.01, startingRadius + 0.07, row['Name'], horizontalalignment='center', verticalalignment='center')\n",
    "    plt.pie(donut_sizes, radius=startingRadius, startangle=90, colors=['#F6F5F6', '#879096'],\n",
    "            wedgeprops={\"edgecolor\": \"white\", 'linewidth': 1})\n",
    "\n",
    "    startingRadius-=0.3\n",
    "\n",
    "# equal ensures pie chart is drawn as a circle (equal aspect ratio)\n",
    "# create circle and place onto pie chart\n",
    "circle = plt.Circle(xy=(0, 0), radius=0.35, facecolor='white')\n",
    "plt.gca().add_artist(circle)\n",
    "plt.tight_layout()\n",
    "# plt.savefig('donutPlot.jpg')\n",
    "plt.show()"
   ]
  },
  {
   "cell_type": "code",
   "execution_count": null,
   "metadata": {},
   "outputs": [],
   "source": [
    "better_results['standarized_number_of_ratings'] = (better_results['Number of Ratings'] - better_results['Number of Ratings'].mean()) / better_results['Number of Ratings'].std()"
   ]
  },
  {
   "cell_type": "code",
   "execution_count": null,
   "metadata": {},
   "outputs": [],
   "source": [
    "better_results['standarized_ratings'] = (better_results['Rating'] - better_results['Rating'].mean()) / better_results['Rating'].std()"
   ]
  },
  {
   "cell_type": "code",
   "execution_count": null,
   "metadata": {},
   "outputs": [],
   "source": [
    "better_results.standarized_number_of_ratings.plot(kind='hist')"
   ]
  },
  {
   "cell_type": "code",
   "execution_count": null,
   "metadata": {},
   "outputs": [],
   "source": [
    "better_results.standarized_ratings.plot(kind='hist')"
   ]
  },
  {
   "cell_type": "code",
   "execution_count": null,
   "metadata": {},
   "outputs": [],
   "source": [
    "better_results.head()"
   ]
  },
  {
   "cell_type": "code",
   "execution_count": null,
   "metadata": {},
   "outputs": [],
   "source": [
    "sb.distplot(better_results.standarized_ratings)"
   ]
  },
  {
   "cell_type": "code",
   "execution_count": null,
   "metadata": {},
   "outputs": [],
   "source": [
    "ratings = better_results.groupby('Rating')['Name'].nunique()\n",
    "ratings"
   ]
  },
  {
   "cell_type": "code",
   "execution_count": null,
   "metadata": {},
   "outputs": [],
   "source": [
    "values = better_results.Rating.unique()\n",
    "values"
   ]
  },
  {
   "cell_type": "code",
   "execution_count": null,
   "metadata": {},
   "outputs": [],
   "source": [
    "pd.value_counts(better_results['Rating']).sort_index().plot.bar()"
   ]
  },
  {
   "cell_type": "code",
   "execution_count": null,
   "metadata": {},
   "outputs": [],
   "source": [
    "color_theme = [\n",
    "    '#F6F5F6',\n",
    "    '#92AECE',\n",
    "    '#8686A4',\n",
    "    '#99849A',\n",
    "    '#485260',\n",
    "    '#'\n",
    "]\n",
    "plt.pie(\n",
    "    ratings,\n",
    "    labels=better_results.Rating.unique(),\n",
    "    autopct='%1.1f%%',\n",
    "    startangle=90,\n",
    "    pctdistance=0.85,\n",
    "    colors=color_theme\n",
    ")\n",
    "\n",
    "centre_circle = plt.Circle(\n",
    "    (0, 0),\n",
    "    0.70,\n",
    "    fc='white'\n",
    ")\n",
    "\n",
    "fig = plt.gcf()\n",
    "\n",
    "fig.gca().add_artist(centre_circle)\n",
    "plt.tight_layout()\n",
    "plt.show()"
   ]
  },
  {
   "cell_type": "code",
   "execution_count": null,
   "metadata": {},
   "outputs": [],
   "source": [
    "all_types = []\n",
    "for t in better_results['Types']:\n",
    "    for sub_type in t.split(','):\n",
    "        all_types.append(sub_type)\n",
    "all_types = Series(all_types)\n",
    "all_types"
   ]
  },
  {
   "cell_type": "code",
   "execution_count": null,
   "metadata": {},
   "outputs": [],
   "source": [
    "distinct_types = all_types.unique()\n",
    "distinct_types"
   ]
  },
  {
   "cell_type": "code",
   "execution_count": null,
   "metadata": {},
   "outputs": [],
   "source": [
    "distinct_types_count = all_types.value_counts()\n",
    "distinct_types_count"
   ]
  },
  {
   "cell_type": "code",
   "execution_count": null,
   "metadata": {},
   "outputs": [],
   "source": [
    "color_theme = [\n",
    "    '#F6F5F6',\n",
    "    '#92AECE',\n",
    "    '#8686A4',\n",
    "    '#99849A',\n",
    "    '#485260',\n",
    "    '#CDC8C9',\n",
    "    '#8F7172',\n",
    "    '#BEA88A',\n",
    "    '#A98C6E',\n",
    "    '#8F7172'\n",
    "]\n",
    "plt.pie(\n",
    "    distinct_types_count,\n",
    "#     labels=distinct_types,\n",
    "    autopct='%1.1f%%',\n",
    "    startangle=90,\n",
    "    pctdistance=0.85,\n",
    "    colors=color_theme\n",
    ")\n",
    "\n",
    "centre_circle = plt.Circle(\n",
    "    (0, 0),\n",
    "    0.70,\n",
    "    fc='white'\n",
    ")\n",
    "\n",
    "fig = plt.gcf()\n",
    "\n",
    "fig.gca().add_artist(centre_circle)\n",
    "plt.legend(distinct_types, loc='center left')\n",
    "plt.tight_layout()\n",
    "plt.show()"
   ]
  },
  {
   "cell_type": "code",
   "execution_count": null,
   "metadata": {},
   "outputs": [],
   "source": [
    "pd.value_counts(all_types).plot.bar()"
   ]
  }
 ],
 "metadata": {
  "kernelspec": {
   "display_name": "Python 3",
   "language": "python",
   "name": "python3"
  },
  "language_info": {
   "codemirror_mode": {
    "name": "ipython",
    "version": 3
   },
   "file_extension": ".py",
   "mimetype": "text/x-python",
   "name": "python",
   "nbconvert_exporter": "python",
   "pygments_lexer": "ipython3",
   "version": "3.7.4"
  }
 },
 "nbformat": 4,
 "nbformat_minor": 2
}